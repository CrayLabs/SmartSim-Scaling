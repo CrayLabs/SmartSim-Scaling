{
 "cells": [
  {
   "cell_type": "code",
   "execution_count": 1,
   "metadata": {},
   "outputs": [],
   "source": [
    "import os\n",
    "import matplotlib.pyplot as plt\n",
    "import matplotlib\n",
    "import vaex\n",
    "import gzip\n",
    "import ubjson\n",
    "import pandas as pd\n",
    "import numpy as np\n",
    "from glob import glob\n",
    "import seaborn as sns\n",
    "from tqdm.auto import tqdm\n",
    "import matplotlib.patches as mpatches\n",
    "import time\n",
    "import sys\n",
    "import traceback # give me the traceback\n",
    "import configparser\n",
    "import json\n",
    "from pathlib import Path\n",
    "import asyncio\n",
    "from joblib import Parallel, delayed\n",
    "from multiprocessing import Manager\n",
    "from itertools import chain\n",
    "import pprint\n",
    "import dask.dataframe as dd\n",
    "\n",
    "from smartsim.log import get_logger, log_to_file\n",
    "logger = get_logger(\"Plotter\")\n",
    "\n",
    "configs = []\n",
    "\n",
    "font = {'family' : 'sans',\n",
    "        'weight' : 'normal',\n",
    "        'size'   : 14}\n",
    "matplotlib.rc('font', **font)\n"
   ]
  },
  {
   "cell_type": "code",
   "execution_count": 2,
   "metadata": {},
   "outputs": [],
   "source": [
    "class hashableDict(dict):\n",
    "    def __hash__(self):\n",
    "        return hash(tuple(sorted(self.items())))"
   ]
  },
  {
   "cell_type": "code",
   "execution_count": 9,
   "metadata": {},
   "outputs": [],
   "source": [
    "\n",
    "\n",
    "configs = []\n",
    "\n",
    "functions = ['put_tensor', 'main()', 'client()', 'unpack_tensor']\n",
    "\n",
    "def fast_flatten(input_list):\n",
    "    return list(chain.from_iterable(input_list))\n",
    "    # a = list(chain.from_iterable(input_list))\n",
    "    # a += [False] * (999999 - len(a))\n",
    "    # return list(a)\n",
    "\n",
    "def readCSV(timing_file, config, frames):\n",
    "    # can't use \"engine=\"pyarrow\" because not all features are there\n",
    "    tmp_df = pd.read_csv(timing_file, header=0, names=[\"rank\", \"function\", \"time\"])\n",
    "    for key, value in config._sections['attributes'].items():\n",
    "        tmp_df[key] = value\n",
    "    # print(f\"df_list: {df_list}\")\n",
    "    # pprint.pprint(tmp_df)\n",
    "    # sys.exit()\n",
    "    frames.append(tmp_df)\n",
    "\n",
    "def scaling_read_data(full_path):\n",
    "    # creating a list that can be shared across memory bc normal list was not being shred correctly\n",
    "    #this is how u do share variables when doing async stuff\n",
    "    # manager = Manager()\n",
    "    # df_list = manager.list()\n",
    "    try:\n",
    "        frames = list()\n",
    "        logger.debug(\"Entered plotter method\")\n",
    "        for run_cfg in Path(full_path).rglob('run.cfg'):\n",
    "            config = configparser.ConfigParser()\n",
    "            config.read(run_cfg)\n",
    "            configs.append(config)\n",
    "        for config in tqdm(configs, desc=\"Processing configs...\", ncols=80):\n",
    "            timing_files = Path(config['run']['path']).glob('rank*.csv')\n",
    "            # NOTE: setting n_jobs to -1 makes it use all available cpus\n",
    "            timingFiles = tqdm(timing_files, desc=\"Processing timing files...\", ncols=80)\n",
    "            Parallel(n_jobs=-1, prefer=\"threads\")(delayed(readCSV)(timing_file, config, frames) for timing_file in timingFiles)\n",
    "        COLUMN_NAMES = frames[0].columns\n",
    "        # COLUMN_NAMES = [frames[i].columns for i in range (len(frames))]\n",
    "        # COL_NAMES = list(set(list(chain(*COLUMN_NAMES))))\n",
    "        df_dict = dict.fromkeys(COLUMN_NAMES, [])\n",
    "        print(f\"columns were {COLUMN_NAMES}\")\n",
    "        for col in COLUMN_NAMES:\n",
    "            extracted = (frame[col] for frame in frames if col in frame.columns.tolist())\n",
    "            df_dict[col] = fast_flatten(extracted)\n",
    "        df = pd.DataFrame.from_dict(df_dict)[COLUMN_NAMES]\n",
    "        print(f\"df: {df}\")\n",
    "    except Exception as e:\n",
    "        exc_info = sys.exc_info()\n",
    "        traceback.print_tb(e.__traceback__)\n",
    "        traceback.print_exception(*exc_info)\n",
    "        # exc_type, exc_obj, exc_tb = sys.exc_info()\n",
    "        # fname = os.path.split(exc_tb.tb_frame.f_code.co_filename)[1]\n",
    "        # print(exc_type, fname, exc_tb.tb_lineno)\n",
    "    # with gzip.open(Path(\"results/\" + scaling_test_name + \"/stats\") / os.path.basename(run_cfg_path) / \"dataframe.gz\", 'wb') as f:\n",
    "    #     df.to_json(df, f)\n",
    "    #df.to_csv(Path(\"results/\" + scaling_test_name + \"/stats\") / os.path.basename(full_path) / \"dataframe.csv.gz\", chunksize=100000, encoding='utf-8', index=False, compression='gzip')\n",
    "    #df.to_pickle(Path(\"results/\" + scaling_test_name + \"/stats\") / os.path.basename(run_cfg_path) / \"dummy.pkl\")\n",
    "\n",
    "    \n",
    "    "
   ]
  },
  {
   "cell_type": "code",
   "execution_count": 10,
   "metadata": {},
   "outputs": [
    {
     "data": {
      "application/vnd.jupyter.widget-view+json": {
       "model_id": "974929cac24f430596418a0f90137d99",
       "version_major": 2,
       "version_minor": 0
      },
      "text/plain": [
       "Processing configs...:   0%|                            | 0/163 [00:00<?, ?it/s]"
      ]
     },
     "metadata": {},
     "output_type": "display_data"
    },
    {
     "data": {
      "application/vnd.jupyter.widget-view+json": {
       "model_id": "9b34b9f142e844f8bf89d615e8a5d760",
       "version_major": 2,
       "version_minor": 0
      },
      "text/plain": [
       "Processing timing files...: 0it [00:00, ?it/s]"
      ]
     },
     "metadata": {},
     "output_type": "display_data"
    },
    {
     "data": {
      "application/vnd.jupyter.widget-view+json": {
       "model_id": "3e5126af70e84015a00c73dc22a0ad91",
       "version_major": 2,
       "version_minor": 0
      },
      "text/plain": [
       "Processing timing files...: 0it [00:00, ?it/s]"
      ]
     },
     "metadata": {},
     "output_type": "display_data"
    },
    {
     "data": {
      "application/vnd.jupyter.widget-view+json": {
       "model_id": "4b8db375a4c94eb8aebf91cad1b5d92e",
       "version_major": 2,
       "version_minor": 0
      },
      "text/plain": [
       "Processing timing files...: 0it [00:00, ?it/s]"
      ]
     },
     "metadata": {},
     "output_type": "display_data"
    },
    {
     "data": {
      "application/vnd.jupyter.widget-view+json": {
       "model_id": "e3b34e70377c44caae1b2a34a288f87d",
       "version_major": 2,
       "version_minor": 0
      },
      "text/plain": [
       "Processing timing files...: 0it [00:00, ?it/s]"
      ]
     },
     "metadata": {},
     "output_type": "display_data"
    },
    {
     "data": {
      "application/vnd.jupyter.widget-view+json": {
       "model_id": "1d13f33bc79144c788b11b7e7dbd2861",
       "version_major": 2,
       "version_minor": 0
      },
      "text/plain": [
       "Processing timing files...: 0it [00:00, ?it/s]"
      ]
     },
     "metadata": {},
     "output_type": "display_data"
    },
    {
     "data": {
      "application/vnd.jupyter.widget-view+json": {
       "model_id": "8c0f842b5cf24537a923937df0f36969",
       "version_major": 2,
       "version_minor": 0
      },
      "text/plain": [
       "Processing timing files...: 0it [00:00, ?it/s]"
      ]
     },
     "metadata": {},
     "output_type": "display_data"
    },
    {
     "data": {
      "application/vnd.jupyter.widget-view+json": {
       "model_id": "1d95910ddd054b67b6f2ffd5840eb49e",
       "version_major": 2,
       "version_minor": 0
      },
      "text/plain": [
       "Processing timing files...: 0it [00:00, ?it/s]"
      ]
     },
     "metadata": {},
     "output_type": "display_data"
    },
    {
     "data": {
      "application/vnd.jupyter.widget-view+json": {
       "model_id": "f192c8b3bd174377b8d141bb927223a2",
       "version_major": 2,
       "version_minor": 0
      },
      "text/plain": [
       "Processing timing files...: 0it [00:00, ?it/s]"
      ]
     },
     "metadata": {},
     "output_type": "display_data"
    },
    {
     "data": {
      "application/vnd.jupyter.widget-view+json": {
       "model_id": "0377095e29ac43c7b16db5ed37bf8153",
       "version_major": 2,
       "version_minor": 0
      },
      "text/plain": [
       "Processing timing files...: 0it [00:00, ?it/s]"
      ]
     },
     "metadata": {},
     "output_type": "display_data"
    },
    {
     "data": {
      "application/vnd.jupyter.widget-view+json": {
       "model_id": "e1f662ead7fc46d7896e9323b94e418b",
       "version_major": 2,
       "version_minor": 0
      },
      "text/plain": [
       "Processing timing files...: 0it [00:00, ?it/s]"
      ]
     },
     "metadata": {},
     "output_type": "display_data"
    },
    {
     "data": {
      "application/vnd.jupyter.widget-view+json": {
       "model_id": "32a36ec3eed4492abc244da034d2f508",
       "version_major": 2,
       "version_minor": 0
      },
      "text/plain": [
       "Processing timing files...: 0it [00:00, ?it/s]"
      ]
     },
     "metadata": {},
     "output_type": "display_data"
    },
    {
     "data": {
      "application/vnd.jupyter.widget-view+json": {
       "model_id": "1f7d6a8b2a4f4209884a0cab8a874d4b",
       "version_major": 2,
       "version_minor": 0
      },
      "text/plain": [
       "Processing timing files...: 0it [00:00, ?it/s]"
      ]
     },
     "metadata": {},
     "output_type": "display_data"
    },
    {
     "data": {
      "application/vnd.jupyter.widget-view+json": {
       "model_id": "bfdc9cec5ad24381a96f21aaa09c2976",
       "version_major": 2,
       "version_minor": 0
      },
      "text/plain": [
       "Processing timing files...: 0it [00:00, ?it/s]"
      ]
     },
     "metadata": {},
     "output_type": "display_data"
    },
    {
     "data": {
      "application/vnd.jupyter.widget-view+json": {
       "model_id": "722c3b9edcc04d4797204ed08820b160",
       "version_major": 2,
       "version_minor": 0
      },
      "text/plain": [
       "Processing timing files...: 0it [00:00, ?it/s]"
      ]
     },
     "metadata": {},
     "output_type": "display_data"
    },
    {
     "data": {
      "application/vnd.jupyter.widget-view+json": {
       "model_id": "8ad93694593945e9b64804b25f94586f",
       "version_major": 2,
       "version_minor": 0
      },
      "text/plain": [
       "Processing timing files...: 0it [00:00, ?it/s]"
      ]
     },
     "metadata": {},
     "output_type": "display_data"
    },
    {
     "data": {
      "application/vnd.jupyter.widget-view+json": {
       "model_id": "47173918129d4cdc88c854139ca95363",
       "version_major": 2,
       "version_minor": 0
      },
      "text/plain": [
       "Processing timing files...: 0it [00:00, ?it/s]"
      ]
     },
     "metadata": {},
     "output_type": "display_data"
    },
    {
     "data": {
      "application/vnd.jupyter.widget-view+json": {
       "model_id": "cbdd2541243148d48a98b649245f8fba",
       "version_major": 2,
       "version_minor": 0
      },
      "text/plain": [
       "Processing timing files...: 0it [00:00, ?it/s]"
      ]
     },
     "metadata": {},
     "output_type": "display_data"
    },
    {
     "data": {
      "application/vnd.jupyter.widget-view+json": {
       "model_id": "bbbaca13715448f8acea338b90e88f88",
       "version_major": 2,
       "version_minor": 0
      },
      "text/plain": [
       "Processing timing files...: 0it [00:00, ?it/s]"
      ]
     },
     "metadata": {},
     "output_type": "display_data"
    },
    {
     "data": {
      "application/vnd.jupyter.widget-view+json": {
       "model_id": "a14bbc404edd4c7c927acfe636ceae9d",
       "version_major": 2,
       "version_minor": 0
      },
      "text/plain": [
       "Processing timing files...: 0it [00:00, ?it/s]"
      ]
     },
     "metadata": {},
     "output_type": "display_data"
    },
    {
     "data": {
      "application/vnd.jupyter.widget-view+json": {
       "model_id": "cc27b74cf2fa4e6db30b26099f677ee8",
       "version_major": 2,
       "version_minor": 0
      },
      "text/plain": [
       "Processing timing files...: 0it [00:00, ?it/s]"
      ]
     },
     "metadata": {},
     "output_type": "display_data"
    },
    {
     "data": {
      "application/vnd.jupyter.widget-view+json": {
       "model_id": "226a101036a546edbf05cc2716879ba7",
       "version_major": 2,
       "version_minor": 0
      },
      "text/plain": [
       "Processing timing files...: 0it [00:00, ?it/s]"
      ]
     },
     "metadata": {},
     "output_type": "display_data"
    },
    {
     "data": {
      "application/vnd.jupyter.widget-view+json": {
       "model_id": "6f14fb4c061d4cc2948e7c2347661762",
       "version_major": 2,
       "version_minor": 0
      },
      "text/plain": [
       "Processing timing files...: 0it [00:00, ?it/s]"
      ]
     },
     "metadata": {},
     "output_type": "display_data"
    },
    {
     "data": {
      "application/vnd.jupyter.widget-view+json": {
       "model_id": "c36624415afb4115b11fd94f74446a29",
       "version_major": 2,
       "version_minor": 0
      },
      "text/plain": [
       "Processing timing files...: 0it [00:00, ?it/s]"
      ]
     },
     "metadata": {},
     "output_type": "display_data"
    },
    {
     "data": {
      "application/vnd.jupyter.widget-view+json": {
       "model_id": "ca3728e607c24280a0090bb789ad141d",
       "version_major": 2,
       "version_minor": 0
      },
      "text/plain": [
       "Processing timing files...: 0it [00:00, ?it/s]"
      ]
     },
     "metadata": {},
     "output_type": "display_data"
    },
    {
     "data": {
      "application/vnd.jupyter.widget-view+json": {
       "model_id": "35b39d4389dd4b4093a83ee33c06bf55",
       "version_major": 2,
       "version_minor": 0
      },
      "text/plain": [
       "Processing timing files...: 0it [00:00, ?it/s]"
      ]
     },
     "metadata": {},
     "output_type": "display_data"
    },
    {
     "data": {
      "application/vnd.jupyter.widget-view+json": {
       "model_id": "5cf1fe2b8c3c4b9692b296109473707c",
       "version_major": 2,
       "version_minor": 0
      },
      "text/plain": [
       "Processing timing files...: 0it [00:00, ?it/s]"
      ]
     },
     "metadata": {},
     "output_type": "display_data"
    },
    {
     "data": {
      "application/vnd.jupyter.widget-view+json": {
       "model_id": "442bb830ed554c6fa80097bbc090dce9",
       "version_major": 2,
       "version_minor": 0
      },
      "text/plain": [
       "Processing timing files...: 0it [00:00, ?it/s]"
      ]
     },
     "metadata": {},
     "output_type": "display_data"
    },
    {
     "data": {
      "application/vnd.jupyter.widget-view+json": {
       "model_id": "b66ac165d3ea406296a5575ecf5a2ff7",
       "version_major": 2,
       "version_minor": 0
      },
      "text/plain": [
       "Processing timing files...: 0it [00:00, ?it/s]"
      ]
     },
     "metadata": {},
     "output_type": "display_data"
    },
    {
     "data": {
      "application/vnd.jupyter.widget-view+json": {
       "model_id": "ee96482d684c480f9c77154a66bd6d42",
       "version_major": 2,
       "version_minor": 0
      },
      "text/plain": [
       "Processing timing files...: 0it [00:00, ?it/s]"
      ]
     },
     "metadata": {},
     "output_type": "display_data"
    },
    {
     "data": {
      "application/vnd.jupyter.widget-view+json": {
       "model_id": "a208737649e14c2f9e1cefd2b3f8e9e7",
       "version_major": 2,
       "version_minor": 0
      },
      "text/plain": [
       "Processing timing files...: 0it [00:00, ?it/s]"
      ]
     },
     "metadata": {},
     "output_type": "display_data"
    },
    {
     "data": {
      "application/vnd.jupyter.widget-view+json": {
       "model_id": "0483213cbe284527adc3c2b5d59e49a1",
       "version_major": 2,
       "version_minor": 0
      },
      "text/plain": [
       "Processing timing files...: 0it [00:00, ?it/s]"
      ]
     },
     "metadata": {},
     "output_type": "display_data"
    },
    {
     "data": {
      "application/vnd.jupyter.widget-view+json": {
       "model_id": "90c9d4fe05514b6ea9486b3a12096f87",
       "version_major": 2,
       "version_minor": 0
      },
      "text/plain": [
       "Processing timing files...: 0it [00:00, ?it/s]"
      ]
     },
     "metadata": {},
     "output_type": "display_data"
    },
    {
     "data": {
      "application/vnd.jupyter.widget-view+json": {
       "model_id": "5aa5d0c18aef4eeab68434443e2fe868",
       "version_major": 2,
       "version_minor": 0
      },
      "text/plain": [
       "Processing timing files...: 0it [00:00, ?it/s]"
      ]
     },
     "metadata": {},
     "output_type": "display_data"
    },
    {
     "data": {
      "application/vnd.jupyter.widget-view+json": {
       "model_id": "30612d9ee0484456a08f7de603405f05",
       "version_major": 2,
       "version_minor": 0
      },
      "text/plain": [
       "Processing timing files...: 0it [00:00, ?it/s]"
      ]
     },
     "metadata": {},
     "output_type": "display_data"
    },
    {
     "data": {
      "application/vnd.jupyter.widget-view+json": {
       "model_id": "d19849a0274e4655aec31858f759c0ad",
       "version_major": 2,
       "version_minor": 0
      },
      "text/plain": [
       "Processing timing files...: 0it [00:00, ?it/s]"
      ]
     },
     "metadata": {},
     "output_type": "display_data"
    },
    {
     "data": {
      "application/vnd.jupyter.widget-view+json": {
       "model_id": "9d3bb92b7e664103a21f82aa1325cce5",
       "version_major": 2,
       "version_minor": 0
      },
      "text/plain": [
       "Processing timing files...: 0it [00:00, ?it/s]"
      ]
     },
     "metadata": {},
     "output_type": "display_data"
    },
    {
     "data": {
      "application/vnd.jupyter.widget-view+json": {
       "model_id": "09a088bea64d491cb25d336b025342f3",
       "version_major": 2,
       "version_minor": 0
      },
      "text/plain": [
       "Processing timing files...: 0it [00:00, ?it/s]"
      ]
     },
     "metadata": {},
     "output_type": "display_data"
    },
    {
     "data": {
      "application/vnd.jupyter.widget-view+json": {
       "model_id": "57a7b712f326429f915440cba080583f",
       "version_major": 2,
       "version_minor": 0
      },
      "text/plain": [
       "Processing timing files...: 0it [00:00, ?it/s]"
      ]
     },
     "metadata": {},
     "output_type": "display_data"
    },
    {
     "data": {
      "application/vnd.jupyter.widget-view+json": {
       "model_id": "da7ba633386541edb6c63aaaf31f95ed",
       "version_major": 2,
       "version_minor": 0
      },
      "text/plain": [
       "Processing timing files...: 0it [00:00, ?it/s]"
      ]
     },
     "metadata": {},
     "output_type": "display_data"
    },
    {
     "data": {
      "application/vnd.jupyter.widget-view+json": {
       "model_id": "23b1acf55a3b4ab3bd264b3bad57d226",
       "version_major": 2,
       "version_minor": 0
      },
      "text/plain": [
       "Processing timing files...: 0it [00:00, ?it/s]"
      ]
     },
     "metadata": {},
     "output_type": "display_data"
    },
    {
     "data": {
      "application/vnd.jupyter.widget-view+json": {
       "model_id": "ad022e6c02e941ff8ce049fd3e70d693",
       "version_major": 2,
       "version_minor": 0
      },
      "text/plain": [
       "Processing timing files...: 0it [00:00, ?it/s]"
      ]
     },
     "metadata": {},
     "output_type": "display_data"
    },
    {
     "data": {
      "application/vnd.jupyter.widget-view+json": {
       "model_id": "ee540b8c863946e38b03a763f3a363e4",
       "version_major": 2,
       "version_minor": 0
      },
      "text/plain": [
       "Processing timing files...: 0it [00:00, ?it/s]"
      ]
     },
     "metadata": {},
     "output_type": "display_data"
    },
    {
     "data": {
      "application/vnd.jupyter.widget-view+json": {
       "model_id": "0f283b44007149ae81e9347464e3c31f",
       "version_major": 2,
       "version_minor": 0
      },
      "text/plain": [
       "Processing timing files...: 0it [00:00, ?it/s]"
      ]
     },
     "metadata": {},
     "output_type": "display_data"
    },
    {
     "data": {
      "application/vnd.jupyter.widget-view+json": {
       "model_id": "8bd33b3194404613b57661f10476b857",
       "version_major": 2,
       "version_minor": 0
      },
      "text/plain": [
       "Processing timing files...: 0it [00:00, ?it/s]"
      ]
     },
     "metadata": {},
     "output_type": "display_data"
    },
    {
     "data": {
      "application/vnd.jupyter.widget-view+json": {
       "model_id": "8665cfa55c5942ed89e210f6a15c970d",
       "version_major": 2,
       "version_minor": 0
      },
      "text/plain": [
       "Processing timing files...: 0it [00:00, ?it/s]"
      ]
     },
     "metadata": {},
     "output_type": "display_data"
    },
    {
     "data": {
      "application/vnd.jupyter.widget-view+json": {
       "model_id": "65d19544fbc74fec8ca45aede2ebd2fa",
       "version_major": 2,
       "version_minor": 0
      },
      "text/plain": [
       "Processing timing files...: 0it [00:00, ?it/s]"
      ]
     },
     "metadata": {},
     "output_type": "display_data"
    },
    {
     "data": {
      "application/vnd.jupyter.widget-view+json": {
       "model_id": "202bbd53fd3145d2b5f10b66dff68075",
       "version_major": 2,
       "version_minor": 0
      },
      "text/plain": [
       "Processing timing files...: 0it [00:00, ?it/s]"
      ]
     },
     "metadata": {},
     "output_type": "display_data"
    },
    {
     "data": {
      "application/vnd.jupyter.widget-view+json": {
       "model_id": "88ec6114ffe54c7a9d4deaed1dd1bfb5",
       "version_major": 2,
       "version_minor": 0
      },
      "text/plain": [
       "Processing timing files...: 0it [00:00, ?it/s]"
      ]
     },
     "metadata": {},
     "output_type": "display_data"
    },
    {
     "data": {
      "application/vnd.jupyter.widget-view+json": {
       "model_id": "08a5817aba2c4a3c952db1e8634e85ef",
       "version_major": 2,
       "version_minor": 0
      },
      "text/plain": [
       "Processing timing files...: 0it [00:00, ?it/s]"
      ]
     },
     "metadata": {},
     "output_type": "display_data"
    },
    {
     "data": {
      "application/vnd.jupyter.widget-view+json": {
       "model_id": "b427d9d0a69c4301bd086d8a7b6c90c5",
       "version_major": 2,
       "version_minor": 0
      },
      "text/plain": [
       "Processing timing files...: 0it [00:00, ?it/s]"
      ]
     },
     "metadata": {},
     "output_type": "display_data"
    },
    {
     "data": {
      "application/vnd.jupyter.widget-view+json": {
       "model_id": "dd2cf6b1f71c4839bd22e9eddedc8653",
       "version_major": 2,
       "version_minor": 0
      },
      "text/plain": [
       "Processing timing files...: 0it [00:00, ?it/s]"
      ]
     },
     "metadata": {},
     "output_type": "display_data"
    },
    {
     "data": {
      "application/vnd.jupyter.widget-view+json": {
       "model_id": "a3426ddcd956434f93eb9fb2e8299ea0",
       "version_major": 2,
       "version_minor": 0
      },
      "text/plain": [
       "Processing timing files...: 0it [00:00, ?it/s]"
      ]
     },
     "metadata": {},
     "output_type": "display_data"
    },
    {
     "data": {
      "application/vnd.jupyter.widget-view+json": {
       "model_id": "9a660d44e2b14307beacb3874941052b",
       "version_major": 2,
       "version_minor": 0
      },
      "text/plain": [
       "Processing timing files...: 0it [00:00, ?it/s]"
      ]
     },
     "metadata": {},
     "output_type": "display_data"
    },
    {
     "data": {
      "application/vnd.jupyter.widget-view+json": {
       "model_id": "2b4f0e99f49b4be0a200a1b9b7e1397c",
       "version_major": 2,
       "version_minor": 0
      },
      "text/plain": [
       "Processing timing files...: 0it [00:00, ?it/s]"
      ]
     },
     "metadata": {},
     "output_type": "display_data"
    },
    {
     "data": {
      "application/vnd.jupyter.widget-view+json": {
       "model_id": "d41e4b50165e4d7789e464fe20e1060c",
       "version_major": 2,
       "version_minor": 0
      },
      "text/plain": [
       "Processing timing files...: 0it [00:00, ?it/s]"
      ]
     },
     "metadata": {},
     "output_type": "display_data"
    },
    {
     "data": {
      "application/vnd.jupyter.widget-view+json": {
       "model_id": "612b48e42e56420c811203f2846dcff3",
       "version_major": 2,
       "version_minor": 0
      },
      "text/plain": [
       "Processing timing files...: 0it [00:00, ?it/s]"
      ]
     },
     "metadata": {},
     "output_type": "display_data"
    },
    {
     "data": {
      "application/vnd.jupyter.widget-view+json": {
       "model_id": "a554a1fd08c649b5b81489c6fdb2df14",
       "version_major": 2,
       "version_minor": 0
      },
      "text/plain": [
       "Processing timing files...: 0it [00:00, ?it/s]"
      ]
     },
     "metadata": {},
     "output_type": "display_data"
    },
    {
     "data": {
      "application/vnd.jupyter.widget-view+json": {
       "model_id": "7ac2692f4611491e8671f62cca2706b4",
       "version_major": 2,
       "version_minor": 0
      },
      "text/plain": [
       "Processing timing files...: 0it [00:00, ?it/s]"
      ]
     },
     "metadata": {},
     "output_type": "display_data"
    },
    {
     "data": {
      "application/vnd.jupyter.widget-view+json": {
       "model_id": "1ff9de0767e64ebeb9460503d3a1f194",
       "version_major": 2,
       "version_minor": 0
      },
      "text/plain": [
       "Processing timing files...: 0it [00:00, ?it/s]"
      ]
     },
     "metadata": {},
     "output_type": "display_data"
    },
    {
     "data": {
      "application/vnd.jupyter.widget-view+json": {
       "model_id": "9225efa3c62f46c082e9e6ff8ed8f9cb",
       "version_major": 2,
       "version_minor": 0
      },
      "text/plain": [
       "Processing timing files...: 0it [00:00, ?it/s]"
      ]
     },
     "metadata": {},
     "output_type": "display_data"
    },
    {
     "data": {
      "application/vnd.jupyter.widget-view+json": {
       "model_id": "56a32c1c83064a498ab6c970d814acbd",
       "version_major": 2,
       "version_minor": 0
      },
      "text/plain": [
       "Processing timing files...: 0it [00:00, ?it/s]"
      ]
     },
     "metadata": {},
     "output_type": "display_data"
    },
    {
     "data": {
      "application/vnd.jupyter.widget-view+json": {
       "model_id": "933d2ff1931f4bdc825ddc443b9c7f82",
       "version_major": 2,
       "version_minor": 0
      },
      "text/plain": [
       "Processing timing files...: 0it [00:00, ?it/s]"
      ]
     },
     "metadata": {},
     "output_type": "display_data"
    },
    {
     "data": {
      "application/vnd.jupyter.widget-view+json": {
       "model_id": "73176cf3ba49471a8e5c58be516beaf7",
       "version_major": 2,
       "version_minor": 0
      },
      "text/plain": [
       "Processing timing files...: 0it [00:00, ?it/s]"
      ]
     },
     "metadata": {},
     "output_type": "display_data"
    },
    {
     "data": {
      "application/vnd.jupyter.widget-view+json": {
       "model_id": "cdf8574d02dc4ea4998d56ae15baa402",
       "version_major": 2,
       "version_minor": 0
      },
      "text/plain": [
       "Processing timing files...: 0it [00:00, ?it/s]"
      ]
     },
     "metadata": {},
     "output_type": "display_data"
    },
    {
     "data": {
      "application/vnd.jupyter.widget-view+json": {
       "model_id": "1cc6a06d93654ff58e8459d033b19259",
       "version_major": 2,
       "version_minor": 0
      },
      "text/plain": [
       "Processing timing files...: 0it [00:00, ?it/s]"
      ]
     },
     "metadata": {},
     "output_type": "display_data"
    },
    {
     "data": {
      "application/vnd.jupyter.widget-view+json": {
       "model_id": "a1224e1764ec4ff4a376aaf870596605",
       "version_major": 2,
       "version_minor": 0
      },
      "text/plain": [
       "Processing timing files...: 0it [00:00, ?it/s]"
      ]
     },
     "metadata": {},
     "output_type": "display_data"
    },
    {
     "data": {
      "application/vnd.jupyter.widget-view+json": {
       "model_id": "0008663097f2453295fd3a3c1b63000c",
       "version_major": 2,
       "version_minor": 0
      },
      "text/plain": [
       "Processing timing files...: 0it [00:00, ?it/s]"
      ]
     },
     "metadata": {},
     "output_type": "display_data"
    },
    {
     "data": {
      "application/vnd.jupyter.widget-view+json": {
       "model_id": "bbaf8f2d87484e1d9b2cbfcedf28aa93",
       "version_major": 2,
       "version_minor": 0
      },
      "text/plain": [
       "Processing timing files...: 0it [00:00, ?it/s]"
      ]
     },
     "metadata": {},
     "output_type": "display_data"
    },
    {
     "data": {
      "application/vnd.jupyter.widget-view+json": {
       "model_id": "e2c76fb6fb71422aa31e4e05e02fbb44",
       "version_major": 2,
       "version_minor": 0
      },
      "text/plain": [
       "Processing timing files...: 0it [00:00, ?it/s]"
      ]
     },
     "metadata": {},
     "output_type": "display_data"
    },
    {
     "data": {
      "application/vnd.jupyter.widget-view+json": {
       "model_id": "1545ceb27ebf41f0a3517fe8a77af5da",
       "version_major": 2,
       "version_minor": 0
      },
      "text/plain": [
       "Processing timing files...: 0it [00:00, ?it/s]"
      ]
     },
     "metadata": {},
     "output_type": "display_data"
    },
    {
     "data": {
      "application/vnd.jupyter.widget-view+json": {
       "model_id": "07a0b630685c4366aa95c01426b40f0d",
       "version_major": 2,
       "version_minor": 0
      },
      "text/plain": [
       "Processing timing files...: 0it [00:00, ?it/s]"
      ]
     },
     "metadata": {},
     "output_type": "display_data"
    },
    {
     "data": {
      "application/vnd.jupyter.widget-view+json": {
       "model_id": "885e1ee63dc84401b26ad676747bf9a4",
       "version_major": 2,
       "version_minor": 0
      },
      "text/plain": [
       "Processing timing files...: 0it [00:00, ?it/s]"
      ]
     },
     "metadata": {},
     "output_type": "display_data"
    },
    {
     "data": {
      "application/vnd.jupyter.widget-view+json": {
       "model_id": "91136c26f38448d1acb650d6dc6861a8",
       "version_major": 2,
       "version_minor": 0
      },
      "text/plain": [
       "Processing timing files...: 0it [00:00, ?it/s]"
      ]
     },
     "metadata": {},
     "output_type": "display_data"
    },
    {
     "data": {
      "application/vnd.jupyter.widget-view+json": {
       "model_id": "61ed00566a294df9a9d7bb60403cd6f0",
       "version_major": 2,
       "version_minor": 0
      },
      "text/plain": [
       "Processing timing files...: 0it [00:00, ?it/s]"
      ]
     },
     "metadata": {},
     "output_type": "display_data"
    },
    {
     "data": {
      "application/vnd.jupyter.widget-view+json": {
       "model_id": "23d86a10fbc348bd9a3c331a181b3609",
       "version_major": 2,
       "version_minor": 0
      },
      "text/plain": [
       "Processing timing files...: 0it [00:00, ?it/s]"
      ]
     },
     "metadata": {},
     "output_type": "display_data"
    },
    {
     "data": {
      "application/vnd.jupyter.widget-view+json": {
       "model_id": "860f1cf88ad149d5961848c5cac28a3d",
       "version_major": 2,
       "version_minor": 0
      },
      "text/plain": [
       "Processing timing files...: 0it [00:00, ?it/s]"
      ]
     },
     "metadata": {},
     "output_type": "display_data"
    },
    {
     "data": {
      "application/vnd.jupyter.widget-view+json": {
       "model_id": "d282be5e97b6482990ab4b8aa385aae2",
       "version_major": 2,
       "version_minor": 0
      },
      "text/plain": [
       "Processing timing files...: 0it [00:00, ?it/s]"
      ]
     },
     "metadata": {},
     "output_type": "display_data"
    },
    {
     "data": {
      "application/vnd.jupyter.widget-view+json": {
       "model_id": "244013a30472431383ac337b3ace3e87",
       "version_major": 2,
       "version_minor": 0
      },
      "text/plain": [
       "Processing timing files...: 0it [00:00, ?it/s]"
      ]
     },
     "metadata": {},
     "output_type": "display_data"
    },
    {
     "data": {
      "application/vnd.jupyter.widget-view+json": {
       "model_id": "883bf27cea984da6b3f7b58a1292e29b",
       "version_major": 2,
       "version_minor": 0
      },
      "text/plain": [
       "Processing timing files...: 0it [00:00, ?it/s]"
      ]
     },
     "metadata": {},
     "output_type": "display_data"
    },
    {
     "data": {
      "application/vnd.jupyter.widget-view+json": {
       "model_id": "1619f509cd06456c92b6919308888bc6",
       "version_major": 2,
       "version_minor": 0
      },
      "text/plain": [
       "Processing timing files...: 0it [00:00, ?it/s]"
      ]
     },
     "metadata": {},
     "output_type": "display_data"
    },
    {
     "data": {
      "application/vnd.jupyter.widget-view+json": {
       "model_id": "8de2aafa62c14b7b847cba16e2adeb53",
       "version_major": 2,
       "version_minor": 0
      },
      "text/plain": [
       "Processing timing files...: 0it [00:00, ?it/s]"
      ]
     },
     "metadata": {},
     "output_type": "display_data"
    },
    {
     "data": {
      "application/vnd.jupyter.widget-view+json": {
       "model_id": "49c0e33db4a14e9c9b15bc9433427d26",
       "version_major": 2,
       "version_minor": 0
      },
      "text/plain": [
       "Processing timing files...: 0it [00:00, ?it/s]"
      ]
     },
     "metadata": {},
     "output_type": "display_data"
    },
    {
     "data": {
      "application/vnd.jupyter.widget-view+json": {
       "model_id": "ed691964045f4ac7b5c9e7d32943ab4e",
       "version_major": 2,
       "version_minor": 0
      },
      "text/plain": [
       "Processing timing files...: 0it [00:00, ?it/s]"
      ]
     },
     "metadata": {},
     "output_type": "display_data"
    },
    {
     "data": {
      "application/vnd.jupyter.widget-view+json": {
       "model_id": "9251d65757a54d10bd72f011fac7b964",
       "version_major": 2,
       "version_minor": 0
      },
      "text/plain": [
       "Processing timing files...: 0it [00:00, ?it/s]"
      ]
     },
     "metadata": {},
     "output_type": "display_data"
    },
    {
     "data": {
      "application/vnd.jupyter.widget-view+json": {
       "model_id": "0218402fec114879a285d042f5ec5916",
       "version_major": 2,
       "version_minor": 0
      },
      "text/plain": [
       "Processing timing files...: 0it [00:00, ?it/s]"
      ]
     },
     "metadata": {},
     "output_type": "display_data"
    },
    {
     "data": {
      "application/vnd.jupyter.widget-view+json": {
       "model_id": "5a12d1d84f374f5a8ef8d0ea27d8787a",
       "version_major": 2,
       "version_minor": 0
      },
      "text/plain": [
       "Processing timing files...: 0it [00:00, ?it/s]"
      ]
     },
     "metadata": {},
     "output_type": "display_data"
    },
    {
     "data": {
      "application/vnd.jupyter.widget-view+json": {
       "model_id": "cfa32b33daf9450d84af4f404ffa3254",
       "version_major": 2,
       "version_minor": 0
      },
      "text/plain": [
       "Processing timing files...: 0it [00:00, ?it/s]"
      ]
     },
     "metadata": {},
     "output_type": "display_data"
    },
    {
     "data": {
      "application/vnd.jupyter.widget-view+json": {
       "model_id": "bf8f76f0f33d47d991fffe3e4069f637",
       "version_major": 2,
       "version_minor": 0
      },
      "text/plain": [
       "Processing timing files...: 0it [00:00, ?it/s]"
      ]
     },
     "metadata": {},
     "output_type": "display_data"
    },
    {
     "data": {
      "application/vnd.jupyter.widget-view+json": {
       "model_id": "e4ac4119904f443eabe01044ab000fef",
       "version_major": 2,
       "version_minor": 0
      },
      "text/plain": [
       "Processing timing files...: 0it [00:00, ?it/s]"
      ]
     },
     "metadata": {},
     "output_type": "display_data"
    },
    {
     "data": {
      "application/vnd.jupyter.widget-view+json": {
       "model_id": "f12424f0fcb74e6f9bd9f6f11f9ca9b7",
       "version_major": 2,
       "version_minor": 0
      },
      "text/plain": [
       "Processing timing files...: 0it [00:00, ?it/s]"
      ]
     },
     "metadata": {},
     "output_type": "display_data"
    },
    {
     "data": {
      "application/vnd.jupyter.widget-view+json": {
       "model_id": "124c67fd28f24a1b830bf0401a711459",
       "version_major": 2,
       "version_minor": 0
      },
      "text/plain": [
       "Processing timing files...: 0it [00:00, ?it/s]"
      ]
     },
     "metadata": {},
     "output_type": "display_data"
    },
    {
     "data": {
      "application/vnd.jupyter.widget-view+json": {
       "model_id": "f058320df9064727a144efa7c0d10a16",
       "version_major": 2,
       "version_minor": 0
      },
      "text/plain": [
       "Processing timing files...: 0it [00:00, ?it/s]"
      ]
     },
     "metadata": {},
     "output_type": "display_data"
    },
    {
     "data": {
      "application/vnd.jupyter.widget-view+json": {
       "model_id": "c1b8db629726452c9559a0be60e5e3fd",
       "version_major": 2,
       "version_minor": 0
      },
      "text/plain": [
       "Processing timing files...: 0it [00:00, ?it/s]"
      ]
     },
     "metadata": {},
     "output_type": "display_data"
    },
    {
     "data": {
      "application/vnd.jupyter.widget-view+json": {
       "model_id": "eb6a94d3f0c245949e8866d69d6f19a3",
       "version_major": 2,
       "version_minor": 0
      },
      "text/plain": [
       "Processing timing files...: 0it [00:00, ?it/s]"
      ]
     },
     "metadata": {},
     "output_type": "display_data"
    },
    {
     "data": {
      "application/vnd.jupyter.widget-view+json": {
       "model_id": "6b03e7eabe1f44a78c00dd719a9ce2ed",
       "version_major": 2,
       "version_minor": 0
      },
      "text/plain": [
       "Processing timing files...: 0it [00:00, ?it/s]"
      ]
     },
     "metadata": {},
     "output_type": "display_data"
    },
    {
     "data": {
      "application/vnd.jupyter.widget-view+json": {
       "model_id": "d6409846af5c4bcaa262534bbff5b89d",
       "version_major": 2,
       "version_minor": 0
      },
      "text/plain": [
       "Processing timing files...: 0it [00:00, ?it/s]"
      ]
     },
     "metadata": {},
     "output_type": "display_data"
    },
    {
     "data": {
      "application/vnd.jupyter.widget-view+json": {
       "model_id": "25ecbb3d049040c9b1c891f70cd1025d",
       "version_major": 2,
       "version_minor": 0
      },
      "text/plain": [
       "Processing timing files...: 0it [00:00, ?it/s]"
      ]
     },
     "metadata": {},
     "output_type": "display_data"
    },
    {
     "data": {
      "application/vnd.jupyter.widget-view+json": {
       "model_id": "a72bb45435104ebc9adc4a0d149b1a04",
       "version_major": 2,
       "version_minor": 0
      },
      "text/plain": [
       "Processing timing files...: 0it [00:00, ?it/s]"
      ]
     },
     "metadata": {},
     "output_type": "display_data"
    },
    {
     "data": {
      "application/vnd.jupyter.widget-view+json": {
       "model_id": "55604bb514a94e289e865019f23396e0",
       "version_major": 2,
       "version_minor": 0
      },
      "text/plain": [
       "Processing timing files...: 0it [00:00, ?it/s]"
      ]
     },
     "metadata": {},
     "output_type": "display_data"
    },
    {
     "data": {
      "application/vnd.jupyter.widget-view+json": {
       "model_id": "0f3e84963767465b8d19d0c2b73b6f5f",
       "version_major": 2,
       "version_minor": 0
      },
      "text/plain": [
       "Processing timing files...: 0it [00:00, ?it/s]"
      ]
     },
     "metadata": {},
     "output_type": "display_data"
    },
    {
     "data": {
      "application/vnd.jupyter.widget-view+json": {
       "model_id": "c0516f8cb0f9412d81d826821bf3539c",
       "version_major": 2,
       "version_minor": 0
      },
      "text/plain": [
       "Processing timing files...: 0it [00:00, ?it/s]"
      ]
     },
     "metadata": {},
     "output_type": "display_data"
    },
    {
     "data": {
      "application/vnd.jupyter.widget-view+json": {
       "model_id": "3db8bf48baef402aa53dbd1fd78d19ee",
       "version_major": 2,
       "version_minor": 0
      },
      "text/plain": [
       "Processing timing files...: 0it [00:00, ?it/s]"
      ]
     },
     "metadata": {},
     "output_type": "display_data"
    },
    {
     "data": {
      "application/vnd.jupyter.widget-view+json": {
       "model_id": "584d71e8451a4fd3bdb8f3104b06cf5e",
       "version_major": 2,
       "version_minor": 0
      },
      "text/plain": [
       "Processing timing files...: 0it [00:00, ?it/s]"
      ]
     },
     "metadata": {},
     "output_type": "display_data"
    },
    {
     "data": {
      "application/vnd.jupyter.widget-view+json": {
       "model_id": "da031c400d4343c9bae5fb626fd71dc1",
       "version_major": 2,
       "version_minor": 0
      },
      "text/plain": [
       "Processing timing files...: 0it [00:00, ?it/s]"
      ]
     },
     "metadata": {},
     "output_type": "display_data"
    },
    {
     "data": {
      "application/vnd.jupyter.widget-view+json": {
       "model_id": "eeb8612b7fca4656ad94797d18f479fd",
       "version_major": 2,
       "version_minor": 0
      },
      "text/plain": [
       "Processing timing files...: 0it [00:00, ?it/s]"
      ]
     },
     "metadata": {},
     "output_type": "display_data"
    },
    {
     "data": {
      "application/vnd.jupyter.widget-view+json": {
       "model_id": "909dc53061a6473385deae652784ed2b",
       "version_major": 2,
       "version_minor": 0
      },
      "text/plain": [
       "Processing timing files...: 0it [00:00, ?it/s]"
      ]
     },
     "metadata": {},
     "output_type": "display_data"
    },
    {
     "data": {
      "application/vnd.jupyter.widget-view+json": {
       "model_id": "6141538d122d4583a3f7ed836c8afd23",
       "version_major": 2,
       "version_minor": 0
      },
      "text/plain": [
       "Processing timing files...: 0it [00:00, ?it/s]"
      ]
     },
     "metadata": {},
     "output_type": "display_data"
    },
    {
     "data": {
      "application/vnd.jupyter.widget-view+json": {
       "model_id": "be11ae0c0de84dc095091b8af0219998",
       "version_major": 2,
       "version_minor": 0
      },
      "text/plain": [
       "Processing timing files...: 0it [00:00, ?it/s]"
      ]
     },
     "metadata": {},
     "output_type": "display_data"
    },
    {
     "data": {
      "application/vnd.jupyter.widget-view+json": {
       "model_id": "f8156d4421984e51987e4610f25fe7da",
       "version_major": 2,
       "version_minor": 0
      },
      "text/plain": [
       "Processing timing files...: 0it [00:00, ?it/s]"
      ]
     },
     "metadata": {},
     "output_type": "display_data"
    },
    {
     "data": {
      "application/vnd.jupyter.widget-view+json": {
       "model_id": "7ef114595a794c968df31167b3e69648",
       "version_major": 2,
       "version_minor": 0
      },
      "text/plain": [
       "Processing timing files...: 0it [00:00, ?it/s]"
      ]
     },
     "metadata": {},
     "output_type": "display_data"
    },
    {
     "data": {
      "application/vnd.jupyter.widget-view+json": {
       "model_id": "769b9ff7f7e940dfb0e9fb5a15e4d358",
       "version_major": 2,
       "version_minor": 0
      },
      "text/plain": [
       "Processing timing files...: 0it [00:00, ?it/s]"
      ]
     },
     "metadata": {},
     "output_type": "display_data"
    },
    {
     "data": {
      "application/vnd.jupyter.widget-view+json": {
       "model_id": "9bfdcf4a8c61433cb89a46375ae74eb5",
       "version_major": 2,
       "version_minor": 0
      },
      "text/plain": [
       "Processing timing files...: 0it [00:00, ?it/s]"
      ]
     },
     "metadata": {},
     "output_type": "display_data"
    },
    {
     "data": {
      "application/vnd.jupyter.widget-view+json": {
       "model_id": "f4f3f6920b284ca7a020fd211583f99e",
       "version_major": 2,
       "version_minor": 0
      },
      "text/plain": [
       "Processing timing files...: 0it [00:00, ?it/s]"
      ]
     },
     "metadata": {},
     "output_type": "display_data"
    },
    {
     "data": {
      "application/vnd.jupyter.widget-view+json": {
       "model_id": "600bc08d23434110b3ace1f689c0d6fd",
       "version_major": 2,
       "version_minor": 0
      },
      "text/plain": [
       "Processing timing files...: 0it [00:00, ?it/s]"
      ]
     },
     "metadata": {},
     "output_type": "display_data"
    },
    {
     "data": {
      "application/vnd.jupyter.widget-view+json": {
       "model_id": "3a88aa725cbd42f48b53604b4cf352c0",
       "version_major": 2,
       "version_minor": 0
      },
      "text/plain": [
       "Processing timing files...: 0it [00:00, ?it/s]"
      ]
     },
     "metadata": {},
     "output_type": "display_data"
    },
    {
     "data": {
      "application/vnd.jupyter.widget-view+json": {
       "model_id": "717d808cfa214dd5817be24fff368828",
       "version_major": 2,
       "version_minor": 0
      },
      "text/plain": [
       "Processing timing files...: 0it [00:00, ?it/s]"
      ]
     },
     "metadata": {},
     "output_type": "display_data"
    },
    {
     "data": {
      "application/vnd.jupyter.widget-view+json": {
       "model_id": "7d78d5fccfdd4766a81fe729bcf62dc3",
       "version_major": 2,
       "version_minor": 0
      },
      "text/plain": [
       "Processing timing files...: 0it [00:00, ?it/s]"
      ]
     },
     "metadata": {},
     "output_type": "display_data"
    },
    {
     "data": {
      "application/vnd.jupyter.widget-view+json": {
       "model_id": "61ea45bbfef54522ab9b6e179979e3af",
       "version_major": 2,
       "version_minor": 0
      },
      "text/plain": [
       "Processing timing files...: 0it [00:00, ?it/s]"
      ]
     },
     "metadata": {},
     "output_type": "display_data"
    },
    {
     "data": {
      "application/vnd.jupyter.widget-view+json": {
       "model_id": "6df8297863274b05b0b31645592cfc74",
       "version_major": 2,
       "version_minor": 0
      },
      "text/plain": [
       "Processing timing files...: 0it [00:00, ?it/s]"
      ]
     },
     "metadata": {},
     "output_type": "display_data"
    },
    {
     "data": {
      "application/vnd.jupyter.widget-view+json": {
       "model_id": "22f0e11373704856b4222489823f6ac9",
       "version_major": 2,
       "version_minor": 0
      },
      "text/plain": [
       "Processing timing files...: 0it [00:00, ?it/s]"
      ]
     },
     "metadata": {},
     "output_type": "display_data"
    },
    {
     "data": {
      "application/vnd.jupyter.widget-view+json": {
       "model_id": "dd14df6b5b004bbeb3d487e438dfad9f",
       "version_major": 2,
       "version_minor": 0
      },
      "text/plain": [
       "Processing timing files...: 0it [00:00, ?it/s]"
      ]
     },
     "metadata": {},
     "output_type": "display_data"
    },
    {
     "data": {
      "application/vnd.jupyter.widget-view+json": {
       "model_id": "5233a93caa5d40f3b8d87be3aaf43218",
       "version_major": 2,
       "version_minor": 0
      },
      "text/plain": [
       "Processing timing files...: 0it [00:00, ?it/s]"
      ]
     },
     "metadata": {},
     "output_type": "display_data"
    },
    {
     "data": {
      "application/vnd.jupyter.widget-view+json": {
       "model_id": "67669604347a4cf5b8102f325f9640fc",
       "version_major": 2,
       "version_minor": 0
      },
      "text/plain": [
       "Processing timing files...: 0it [00:00, ?it/s]"
      ]
     },
     "metadata": {},
     "output_type": "display_data"
    },
    {
     "data": {
      "application/vnd.jupyter.widget-view+json": {
       "model_id": "d16c217f708048a8ba7565d2f034bf0e",
       "version_major": 2,
       "version_minor": 0
      },
      "text/plain": [
       "Processing timing files...: 0it [00:00, ?it/s]"
      ]
     },
     "metadata": {},
     "output_type": "display_data"
    },
    {
     "data": {
      "application/vnd.jupyter.widget-view+json": {
       "model_id": "f5762144254f4a85b0fc7f2b736f47ba",
       "version_major": 2,
       "version_minor": 0
      },
      "text/plain": [
       "Processing timing files...: 0it [00:00, ?it/s]"
      ]
     },
     "metadata": {},
     "output_type": "display_data"
    },
    {
     "data": {
      "application/vnd.jupyter.widget-view+json": {
       "model_id": "05b4f574b2454a30bd49fe71db4d529c",
       "version_major": 2,
       "version_minor": 0
      },
      "text/plain": [
       "Processing timing files...: 0it [00:00, ?it/s]"
      ]
     },
     "metadata": {},
     "output_type": "display_data"
    },
    {
     "data": {
      "application/vnd.jupyter.widget-view+json": {
       "model_id": "4fb6596f1fee4d5c8f5dfc494b35af7f",
       "version_major": 2,
       "version_minor": 0
      },
      "text/plain": [
       "Processing timing files...: 0it [00:00, ?it/s]"
      ]
     },
     "metadata": {},
     "output_type": "display_data"
    },
    {
     "data": {
      "application/vnd.jupyter.widget-view+json": {
       "model_id": "298266aee18a4d1f82ce690bad432b94",
       "version_major": 2,
       "version_minor": 0
      },
      "text/plain": [
       "Processing timing files...: 0it [00:00, ?it/s]"
      ]
     },
     "metadata": {},
     "output_type": "display_data"
    },
    {
     "data": {
      "application/vnd.jupyter.widget-view+json": {
       "model_id": "b051ac4e7f954aadae25ac5fda043c92",
       "version_major": 2,
       "version_minor": 0
      },
      "text/plain": [
       "Processing timing files...: 0it [00:00, ?it/s]"
      ]
     },
     "metadata": {},
     "output_type": "display_data"
    },
    {
     "data": {
      "application/vnd.jupyter.widget-view+json": {
       "model_id": "97003ace36234556ba36b8a29ee4bd73",
       "version_major": 2,
       "version_minor": 0
      },
      "text/plain": [
       "Processing timing files...: 0it [00:00, ?it/s]"
      ]
     },
     "metadata": {},
     "output_type": "display_data"
    },
    {
     "data": {
      "application/vnd.jupyter.widget-view+json": {
       "model_id": "c9717b23a36c481a80a38a89f302290a",
       "version_major": 2,
       "version_minor": 0
      },
      "text/plain": [
       "Processing timing files...: 0it [00:00, ?it/s]"
      ]
     },
     "metadata": {},
     "output_type": "display_data"
    },
    {
     "data": {
      "application/vnd.jupyter.widget-view+json": {
       "model_id": "099a30db27444dd093ed1d6882cfa221",
       "version_major": 2,
       "version_minor": 0
      },
      "text/plain": [
       "Processing timing files...: 0it [00:00, ?it/s]"
      ]
     },
     "metadata": {},
     "output_type": "display_data"
    },
    {
     "data": {
      "application/vnd.jupyter.widget-view+json": {
       "model_id": "d2838d32eea647a2a4791a1d04799be1",
       "version_major": 2,
       "version_minor": 0
      },
      "text/plain": [
       "Processing timing files...: 0it [00:00, ?it/s]"
      ]
     },
     "metadata": {},
     "output_type": "display_data"
    },
    {
     "data": {
      "application/vnd.jupyter.widget-view+json": {
       "model_id": "4d15e74881234d0db4b5c924d41f9a56",
       "version_major": 2,
       "version_minor": 0
      },
      "text/plain": [
       "Processing timing files...: 0it [00:00, ?it/s]"
      ]
     },
     "metadata": {},
     "output_type": "display_data"
    },
    {
     "data": {
      "application/vnd.jupyter.widget-view+json": {
       "model_id": "026155188407460688edc30af6d3b941",
       "version_major": 2,
       "version_minor": 0
      },
      "text/plain": [
       "Processing timing files...: 0it [00:00, ?it/s]"
      ]
     },
     "metadata": {},
     "output_type": "display_data"
    },
    {
     "data": {
      "application/vnd.jupyter.widget-view+json": {
       "model_id": "73decc998fbf4f979e2f04261a240e04",
       "version_major": 2,
       "version_minor": 0
      },
      "text/plain": [
       "Processing timing files...: 0it [00:00, ?it/s]"
      ]
     },
     "metadata": {},
     "output_type": "display_data"
    },
    {
     "data": {
      "application/vnd.jupyter.widget-view+json": {
       "model_id": "d926b842114c44eaa463b2fd17eabee6",
       "version_major": 2,
       "version_minor": 0
      },
      "text/plain": [
       "Processing timing files...: 0it [00:00, ?it/s]"
      ]
     },
     "metadata": {},
     "output_type": "display_data"
    },
    {
     "data": {
      "application/vnd.jupyter.widget-view+json": {
       "model_id": "b566ffdfeb6c459b86cb3e78037dc794",
       "version_major": 2,
       "version_minor": 0
      },
      "text/plain": [
       "Processing timing files...: 0it [00:00, ?it/s]"
      ]
     },
     "metadata": {},
     "output_type": "display_data"
    },
    {
     "data": {
      "application/vnd.jupyter.widget-view+json": {
       "model_id": "e32ecb1bb37647dea4e973005bf35004",
       "version_major": 2,
       "version_minor": 0
      },
      "text/plain": [
       "Processing timing files...: 0it [00:00, ?it/s]"
      ]
     },
     "metadata": {},
     "output_type": "display_data"
    },
    {
     "data": {
      "application/vnd.jupyter.widget-view+json": {
       "model_id": "7acde8febdb14898b23d99f02da218d8",
       "version_major": 2,
       "version_minor": 0
      },
      "text/plain": [
       "Processing timing files...: 0it [00:00, ?it/s]"
      ]
     },
     "metadata": {},
     "output_type": "display_data"
    },
    {
     "data": {
      "application/vnd.jupyter.widget-view+json": {
       "model_id": "37834ffa56d743ba931ee8cc978772ca",
       "version_major": 2,
       "version_minor": 0
      },
      "text/plain": [
       "Processing timing files...: 0it [00:00, ?it/s]"
      ]
     },
     "metadata": {},
     "output_type": "display_data"
    },
    {
     "data": {
      "application/vnd.jupyter.widget-view+json": {
       "model_id": "a9e70be55f3a4688b1b55110d202246f",
       "version_major": 2,
       "version_minor": 0
      },
      "text/plain": [
       "Processing timing files...: 0it [00:00, ?it/s]"
      ]
     },
     "metadata": {},
     "output_type": "display_data"
    },
    {
     "data": {
      "application/vnd.jupyter.widget-view+json": {
       "model_id": "e96a10585454406e9f86f2dc1c4f8267",
       "version_major": 2,
       "version_minor": 0
      },
      "text/plain": [
       "Processing timing files...: 0it [00:00, ?it/s]"
      ]
     },
     "metadata": {},
     "output_type": "display_data"
    },
    {
     "data": {
      "application/vnd.jupyter.widget-view+json": {
       "model_id": "06b21677b15e4e33bedb6cf6ebf8c6cd",
       "version_major": 2,
       "version_minor": 0
      },
      "text/plain": [
       "Processing timing files...: 0it [00:00, ?it/s]"
      ]
     },
     "metadata": {},
     "output_type": "display_data"
    },
    {
     "data": {
      "application/vnd.jupyter.widget-view+json": {
       "model_id": "774dfdced5474a2aa3212aabf5f7ce27",
       "version_major": 2,
       "version_minor": 0
      },
      "text/plain": [
       "Processing timing files...: 0it [00:00, ?it/s]"
      ]
     },
     "metadata": {},
     "output_type": "display_data"
    },
    {
     "data": {
      "application/vnd.jupyter.widget-view+json": {
       "model_id": "50532eb83afa4077916c931e38645b8c",
       "version_major": 2,
       "version_minor": 0
      },
      "text/plain": [
       "Processing timing files...: 0it [00:00, ?it/s]"
      ]
     },
     "metadata": {},
     "output_type": "display_data"
    },
    {
     "data": {
      "application/vnd.jupyter.widget-view+json": {
       "model_id": "b1be2393bdda4e39bdd0f3ddb16f263f",
       "version_major": 2,
       "version_minor": 0
      },
      "text/plain": [
       "Processing timing files...: 0it [00:00, ?it/s]"
      ]
     },
     "metadata": {},
     "output_type": "display_data"
    },
    {
     "data": {
      "application/vnd.jupyter.widget-view+json": {
       "model_id": "6a1bb0f0e0904487bfcdd7b499323c94",
       "version_major": 2,
       "version_minor": 0
      },
      "text/plain": [
       "Processing timing files...: 0it [00:00, ?it/s]"
      ]
     },
     "metadata": {},
     "output_type": "display_data"
    },
    {
     "data": {
      "application/vnd.jupyter.widget-view+json": {
       "model_id": "17ec4cc420104535ac5c9a9e58856d65",
       "version_major": 2,
       "version_minor": 0
      },
      "text/plain": [
       "Processing timing files...: 0it [00:00, ?it/s]"
      ]
     },
     "metadata": {},
     "output_type": "display_data"
    },
    {
     "data": {
      "application/vnd.jupyter.widget-view+json": {
       "model_id": "3aab3dd5851f49e4a5fb49ec011fef8e",
       "version_major": 2,
       "version_minor": 0
      },
      "text/plain": [
       "Processing timing files...: 0it [00:00, ?it/s]"
      ]
     },
     "metadata": {},
     "output_type": "display_data"
    },
    {
     "data": {
      "application/vnd.jupyter.widget-view+json": {
       "model_id": "6881aac01d4340e8ae4a46b61b48ae46",
       "version_major": 2,
       "version_minor": 0
      },
      "text/plain": [
       "Processing timing files...: 0it [00:00, ?it/s]"
      ]
     },
     "metadata": {},
     "output_type": "display_data"
    },
    {
     "data": {
      "application/vnd.jupyter.widget-view+json": {
       "model_id": "d54e6d007fd84309aa8f514d9d15c93e",
       "version_major": 2,
       "version_minor": 0
      },
      "text/plain": [
       "Processing timing files...: 0it [00:00, ?it/s]"
      ]
     },
     "metadata": {},
     "output_type": "display_data"
    },
    {
     "data": {
      "application/vnd.jupyter.widget-view+json": {
       "model_id": "187a2f5db69844c1a222149a2598245b",
       "version_major": 2,
       "version_minor": 0
      },
      "text/plain": [
       "Processing timing files...: 0it [00:00, ?it/s]"
      ]
     },
     "metadata": {},
     "output_type": "display_data"
    },
    {
     "data": {
      "application/vnd.jupyter.widget-view+json": {
       "model_id": "6ea905677e2f4e49b4bd9cdb758cce74",
       "version_major": 2,
       "version_minor": 0
      },
      "text/plain": [
       "Processing timing files...: 0it [00:00, ?it/s]"
      ]
     },
     "metadata": {},
     "output_type": "display_data"
    },
    {
     "data": {
      "application/vnd.jupyter.widget-view+json": {
       "model_id": "d5f093a9396f42439669ea4222f06b95",
       "version_major": 2,
       "version_minor": 0
      },
      "text/plain": [
       "Processing timing files...: 0it [00:00, ?it/s]"
      ]
     },
     "metadata": {},
     "output_type": "display_data"
    },
    {
     "data": {
      "application/vnd.jupyter.widget-view+json": {
       "model_id": "dfe89edd75044a5b92c1fb9671a83618",
       "version_major": 2,
       "version_minor": 0
      },
      "text/plain": [
       "Processing timing files...: 0it [00:00, ?it/s]"
      ]
     },
     "metadata": {},
     "output_type": "display_data"
    },
    {
     "data": {
      "application/vnd.jupyter.widget-view+json": {
       "model_id": "9c481a3961e948efacead014221ab65d",
       "version_major": 2,
       "version_minor": 0
      },
      "text/plain": [
       "Processing timing files...: 0it [00:00, ?it/s]"
      ]
     },
     "metadata": {},
     "output_type": "display_data"
    },
    {
     "data": {
      "application/vnd.jupyter.widget-view+json": {
       "model_id": "77fa16ad83d847d588121166d01e89c2",
       "version_major": 2,
       "version_minor": 0
      },
      "text/plain": [
       "Processing timing files...: 0it [00:00, ?it/s]"
      ]
     },
     "metadata": {},
     "output_type": "display_data"
    },
    {
     "data": {
      "application/vnd.jupyter.widget-view+json": {
       "model_id": "ea235a1e41914d559bf41530a0cddbf7",
       "version_major": 2,
       "version_minor": 0
      },
      "text/plain": [
       "Processing timing files...: 0it [00:00, ?it/s]"
      ]
     },
     "metadata": {},
     "output_type": "display_data"
    },
    {
     "data": {
      "application/vnd.jupyter.widget-view+json": {
       "model_id": "8ea80ba674bc4b509738688b058726d5",
       "version_major": 2,
       "version_minor": 0
      },
      "text/plain": [
       "Processing timing files...: 0it [00:00, ?it/s]"
      ]
     },
     "metadata": {},
     "output_type": "display_data"
    },
    {
     "data": {
      "application/vnd.jupyter.widget-view+json": {
       "model_id": "00c8dafdc53f440f9ade70784588f792",
       "version_major": 2,
       "version_minor": 0
      },
      "text/plain": [
       "Processing timing files...: 0it [00:00, ?it/s]"
      ]
     },
     "metadata": {},
     "output_type": "display_data"
    },
    {
     "data": {
      "application/vnd.jupyter.widget-view+json": {
       "model_id": "d0fa78a60e81485897be245138bf44d5",
       "version_major": 2,
       "version_minor": 0
      },
      "text/plain": [
       "Processing timing files...: 0it [00:00, ?it/s]"
      ]
     },
     "metadata": {},
     "output_type": "display_data"
    },
    {
     "data": {
      "application/vnd.jupyter.widget-view+json": {
       "model_id": "eae3ef51e21b4c92ab127438dcc1a9ba",
       "version_major": 2,
       "version_minor": 0
      },
      "text/plain": [
       "Processing timing files...: 0it [00:00, ?it/s]"
      ]
     },
     "metadata": {},
     "output_type": "display_data"
    },
    {
     "name": "stdout",
     "output_type": "stream",
     "text": [
      "columns were Index(['rank', 'function', 'time', 'colocated', 'client_total',\n",
      "       'client_per_node', 'client_nodes', 'database_nodes', 'database_cpus',\n",
      "       'iterations', 'tensor_bytes', 'language'],\n",
      "      dtype='object')\n",
      "df:           rank       function      time colocated client_total  \\\n",
      "0          655     put_tensor  0.065857         0          768   \n",
      "1          655  unpack_tensor  0.014630         0          768   \n",
      "2          655     put_tensor  0.014376         0          768   \n",
      "3          655  unpack_tensor  0.014243         0          768   \n",
      "4          655     put_tensor  0.021710         0          768   \n",
      "...        ...            ...       ...       ...          ...   \n",
      "65971579  4693  unpack_tensor  0.023524         0         6144   \n",
      "65971580  4693     put_tensor  0.023253         0         6144   \n",
      "65971581  4693  unpack_tensor  0.022773         0         6144   \n",
      "65971582  4693      loop_time  2.670510         0         6144   \n",
      "65971583  4693         main()  5.088220         0         6144   \n",
      "\n",
      "         client_per_node client_nodes database_nodes database_cpus iterations  \\\n",
      "0                     48           16              8             8        100   \n",
      "1                     48           16              8             8        100   \n",
      "2                     48           16              8             8        100   \n",
      "3                     48           16              8             8        100   \n",
      "4                     48           16              8             8        100   \n",
      "...                  ...          ...            ...           ...        ...   \n",
      "65971579              48          128              4             8        100   \n",
      "65971580              48          128              4             8        100   \n",
      "65971581              48          128              4             8        100   \n",
      "65971582              48          128              4             8        100   \n",
      "65971583              48          128              4             8        100   \n",
      "\n",
      "         tensor_bytes language  \n",
      "0              524304      cpp  \n",
      "1              524304      cpp  \n",
      "2              524304      cpp  \n",
      "3              524304      cpp  \n",
      "4              524304      cpp  \n",
      "...               ...      ...  \n",
      "65971579        16384      cpp  \n",
      "65971580        16384      cpp  \n",
      "65971581        16384      cpp  \n",
      "65971582        16384      cpp  \n",
      "65971583        16384      cpp  \n",
      "\n",
      "[65971584 rows x 12 columns]\n"
     ]
    }
   ],
   "source": [
    "results_path = '../results'\n",
    "scaling_test = 'throughput-standard-scaling'\n",
    "run_path = 'run-2023-07-05-21:26:18'\n",
    "full_path = Path(results_path, scaling_test, run_path)\n",
    "scaling_read_data(full_path)"
   ]
  },
  {
   "attachments": {},
   "cell_type": "markdown",
   "metadata": {},
   "source": []
  },
  {
   "cell_type": "code",
   "execution_count": 6,
   "metadata": {},
   "outputs": [
    {
     "name": "stderr",
     "output_type": "stream",
     "text": [
      "/lus/scratch/richaama/miniconda3/envs/plz3/lib/python3.9/site-packages/numpy/core/fromnumeric.py:3462: FutureWarning: In a future version, DataFrame.mean(axis=None) will return a scalar mean over the entire DataFrame. To retain the old behavior, use 'frame.mean(axis=0)' or just 'frame.mean()'\n",
      "  return mean(axis=axis, dtype=dtype, out=out, **kwargs)\n",
      "/lus/scratch/richaama/miniconda3/envs/plz3/lib/python3.9/site-packages/numpy/core/fromnumeric.py:3462: FutureWarning: In a future version, DataFrame.mean(axis=None) will return a scalar mean over the entire DataFrame. To retain the old behavior, use 'frame.mean(axis=0)' or just 'frame.mean()'\n",
      "  return mean(axis=axis, dtype=dtype, out=out, **kwargs)\n",
      "/lus/scratch/richaama/miniconda3/envs/plz3/lib/python3.9/site-packages/numpy/core/fromnumeric.py:3462: FutureWarning: In a future version, DataFrame.mean(axis=None) will return a scalar mean over the entire DataFrame. To retain the old behavior, use 'frame.mean(axis=0)' or just 'frame.mean()'\n",
      "  return mean(axis=axis, dtype=dtype, out=out, **kwargs)\n",
      "/lus/scratch/richaama/miniconda3/envs/plz3/lib/python3.9/site-packages/numpy/core/fromnumeric.py:3462: FutureWarning: In a future version, DataFrame.mean(axis=None) will return a scalar mean over the entire DataFrame. To retain the old behavior, use 'frame.mean(axis=0)' or just 'frame.mean()'\n",
      "  return mean(axis=axis, dtype=dtype, out=out, **kwargs)\n",
      "/lus/scratch/richaama/miniconda3/envs/plz3/lib/python3.9/site-packages/numpy/core/fromnumeric.py:3462: FutureWarning: In a future version, DataFrame.mean(axis=None) will return a scalar mean over the entire DataFrame. To retain the old behavior, use 'frame.mean(axis=0)' or just 'frame.mean()'\n",
      "  return mean(axis=axis, dtype=dtype, out=out, **kwargs)\n",
      "/lus/scratch/richaama/miniconda3/envs/plz3/lib/python3.9/site-packages/numpy/core/fromnumeric.py:3462: FutureWarning: In a future version, DataFrame.mean(axis=None) will return a scalar mean over the entire DataFrame. To retain the old behavior, use 'frame.mean(axis=0)' or just 'frame.mean()'\n",
      "  return mean(axis=axis, dtype=dtype, out=out, **kwargs)\n",
      "/lus/scratch/richaama/miniconda3/envs/plz3/lib/python3.9/site-packages/numpy/core/fromnumeric.py:3462: FutureWarning: In a future version, DataFrame.mean(axis=None) will return a scalar mean over the entire DataFrame. To retain the old behavior, use 'frame.mean(axis=0)' or just 'frame.mean()'\n",
      "  return mean(axis=axis, dtype=dtype, out=out, **kwargs)\n",
      "/lus/scratch/richaama/miniconda3/envs/plz3/lib/python3.9/site-packages/numpy/core/fromnumeric.py:3462: FutureWarning: In a future version, DataFrame.mean(axis=None) will return a scalar mean over the entire DataFrame. To retain the old behavior, use 'frame.mean(axis=0)' or just 'frame.mean()'\n",
      "  return mean(axis=axis, dtype=dtype, out=out, **kwargs)\n",
      "/lus/scratch/richaama/miniconda3/envs/plz3/lib/python3.9/site-packages/numpy/core/fromnumeric.py:3462: FutureWarning: In a future version, DataFrame.mean(axis=None) will return a scalar mean over the entire DataFrame. To retain the old behavior, use 'frame.mean(axis=0)' or just 'frame.mean()'\n",
      "  return mean(axis=axis, dtype=dtype, out=out, **kwargs)\n",
      "/lus/scratch/richaama/miniconda3/envs/plz3/lib/python3.9/site-packages/numpy/core/fromnumeric.py:3462: FutureWarning: In a future version, DataFrame.mean(axis=None) will return a scalar mean over the entire DataFrame. To retain the old behavior, use 'frame.mean(axis=0)' or just 'frame.mean()'\n",
      "  return mean(axis=axis, dtype=dtype, out=out, **kwargs)\n",
      "/lus/scratch/richaama/miniconda3/envs/plz3/lib/python3.9/site-packages/numpy/core/fromnumeric.py:3462: FutureWarning: In a future version, DataFrame.mean(axis=None) will return a scalar mean over the entire DataFrame. To retain the old behavior, use 'frame.mean(axis=0)' or just 'frame.mean()'\n",
      "  return mean(axis=axis, dtype=dtype, out=out, **kwargs)\n"
     ]
    },
    {
     "ename": "",
     "evalue": "",
     "output_type": "error",
     "traceback": [
      "\u001b[1;31mCanceled future for execute_request message before replies were done"
     ]
    },
    {
     "ename": "",
     "evalue": "",
     "output_type": "error",
     "traceback": [
      "\u001b[1;31mThe Kernel crashed while executing code in the the current cell or a previous cell. Please review the code in the cell(s) to identify a possible cause of the failure. Click <a href='https://aka.ms/vscodeJupyterKernelCrash'>here</a> for more info. View Jupyter <a href='command:jupyter.viewOutput'>log</a> for further details."
     ]
    }
   ],
   "source": [
    "df\n",
    "\n"
   ]
  }
 ],
 "metadata": {
  "kernelspec": {
   "display_name": "plz3",
   "language": "python",
   "name": "python3"
  },
  "language_info": {
   "codemirror_mode": {
    "name": "ipython",
    "version": 3
   },
   "file_extension": ".py",
   "mimetype": "text/x-python",
   "name": "python",
   "nbconvert_exporter": "python",
   "pygments_lexer": "ipython3",
   "version": "3.9.16"
  }
 },
 "nbformat": 4,
 "nbformat_minor": 4
}
